{
  "nbformat": 4,
  "nbformat_minor": 0,
  "metadata": {
    "colab": {
      "name": "DS B1 C1",
      "provenance": [],
      "authorship_tag": "ABX9TyM8aqI2RfZWt6FowTgCPsZj",
      "include_colab_link": true
    },
    "kernelspec": {
      "name": "python3",
      "display_name": "Python 3"
    }
  },
  "cells": [
    {
      "cell_type": "markdown",
      "metadata": {
        "id": "view-in-github",
        "colab_type": "text"
      },
      "source": [
        "<a href=\"https://colab.research.google.com/github/dravidshankar/2020-sklearn-sprint/blob/master/DS_B1_C1.ipynb\" target=\"_parent\"><img src=\"https://colab.research.google.com/assets/colab-badge.svg\" alt=\"Open In Colab\"/></a>"
      ]
    },
    {
      "cell_type": "code",
      "metadata": {
        "id": "oD_uTU-T0I06",
        "colab_type": "code",
        "colab": {}
      },
      "source": [
        "#Jupyter --> Julia , Python, R"
      ],
      "execution_count": null,
      "outputs": []
    },
    {
      "cell_type": "markdown",
      "metadata": {
        "id": "OFmm8d4V1t5t",
        "colab_type": "text"
      },
      "source": [
        "# **Python for Data Science**\n"
      ]
    },
    {
      "cell_type": "code",
      "metadata": {
        "id": "vNsdTIlX147h",
        "colab_type": "code",
        "colab": {}
      },
      "source": [
        "#Object\n",
        "#Python - Interpreted Prog. Language\n",
        "#3 - Integer Object\n",
        "#4.5 - Floating point object\n",
        "#\"Hai\" - String Object\n",
        "#True, False --> Boolean objects\n",
        "\n"
      ],
      "execution_count": null,
      "outputs": []
    },
    {
      "cell_type": "code",
      "metadata": {
        "id": "LGMbWWd93RAb",
        "colab_type": "code",
        "colab": {
          "base_uri": "https://localhost:8080/",
          "height": 34
        },
        "outputId": "b6317264-0d5b-4540-fda0-ec1a78c5de83"
      },
      "source": [
        "print(\"Hello World\")"
      ],
      "execution_count": null,
      "outputs": [
        {
          "output_type": "stream",
          "text": [
            "Hello World\n"
          ],
          "name": "stdout"
        }
      ]
    },
    {
      "cell_type": "code",
      "metadata": {
        "id": "abfdNlRk3UXv",
        "colab_type": "code",
        "colab": {
          "base_uri": "https://localhost:8080/",
          "height": 34
        },
        "outputId": "703ec35f-cd76-43f0-a618-03bfc5b832cf"
      },
      "source": [
        "print(type(True))"
      ],
      "execution_count": null,
      "outputs": [
        {
          "output_type": "stream",
          "text": [
            "<class 'bool'>\n"
          ],
          "name": "stdout"
        }
      ]
    },
    {
      "cell_type": "code",
      "metadata": {
        "id": "mQgDffFh4VQS",
        "colab_type": "code",
        "colab": {
          "base_uri": "https://localhost:8080/",
          "height": 34
        },
        "outputId": "b788e448-cfb8-4cde-c668-fce1eea6b576"
      },
      "source": [
        "print(\"Hai, \"+\"How are you\")"
      ],
      "execution_count": null,
      "outputs": [
        {
          "output_type": "stream",
          "text": [
            "Hai, How are you\n"
          ],
          "name": "stdout"
        }
      ]
    },
    {
      "cell_type": "code",
      "metadata": {
        "id": "wQpml6VP4puD",
        "colab_type": "code",
        "colab": {
          "base_uri": "https://localhost:8080/",
          "height": 34
        },
        "outputId": "3bd2825a-6189-4cdd-9b87-c068a1bc87ee"
      },
      "source": [
        "print(3+5)"
      ],
      "execution_count": null,
      "outputs": [
        {
          "output_type": "stream",
          "text": [
            "8\n"
          ],
          "name": "stdout"
        }
      ]
    },
    {
      "cell_type": "code",
      "metadata": {
        "id": "qKEzgWY74t6y",
        "colab_type": "code",
        "colab": {
          "base_uri": "https://localhost:8080/",
          "height": 34
        },
        "outputId": "70225f81-ee67-4c62-e33d-105d34faaeb5"
      },
      "source": [
        "print(\"13\" +\" is a lucky number\")"
      ],
      "execution_count": null,
      "outputs": [
        {
          "output_type": "stream",
          "text": [
            "13 is a lucky number\n"
          ],
          "name": "stdout"
        }
      ]
    },
    {
      "cell_type": "code",
      "metadata": {
        "id": "5jLDMAJ649UU",
        "colab_type": "code",
        "colab": {
          "base_uri": "https://localhost:8080/",
          "height": 35
        },
        "outputId": "6aa4e965-e398-4eb4-bcfc-8a9038cfe21b"
      },
      "source": [
        "'''\n",
        "Multiple\n",
        "Line\n",
        "Comments\n",
        "'''"
      ],
      "execution_count": null,
      "outputs": [
        {
          "output_type": "execute_result",
          "data": {
            "application/vnd.google.colaboratory.intrinsic+json": {
              "type": "string"
            },
            "text/plain": [
              "'\\nMultiple\\nLine\\nComments\\n'"
            ]
          },
          "metadata": {
            "tags": []
          },
          "execution_count": 41
        }
      ]
    },
    {
      "cell_type": "code",
      "metadata": {
        "id": "l6auZo8w6Iyw",
        "colab_type": "code",
        "colab": {
          "base_uri": "https://localhost:8080/",
          "height": 34
        },
        "outputId": "ee0f549a-d8a1-49a0-ec03-b2e66514fea1"
      },
      "source": [
        "8//3 #integer division"
      ],
      "execution_count": null,
      "outputs": [
        {
          "output_type": "execute_result",
          "data": {
            "text/plain": [
              "2"
            ]
          },
          "metadata": {
            "tags": []
          },
          "execution_count": 42
        }
      ]
    },
    {
      "cell_type": "code",
      "metadata": {
        "id": "4MuMd6D86Ybo",
        "colab_type": "code",
        "colab": {
          "base_uri": "https://localhost:8080/",
          "height": 34
        },
        "outputId": "4317b772-fbf9-408d-bd31-bf8dd481d23d"
      },
      "source": [
        "2**3 #2 to the power 3"
      ],
      "execution_count": null,
      "outputs": [
        {
          "output_type": "execute_result",
          "data": {
            "text/plain": [
              "8"
            ]
          },
          "metadata": {
            "tags": []
          },
          "execution_count": 43
        }
      ]
    },
    {
      "cell_type": "code",
      "metadata": {
        "id": "2tPHqCxZ6oDZ",
        "colab_type": "code",
        "colab": {
          "base_uri": "https://localhost:8080/",
          "height": 34
        },
        "outputId": "559039b5-18f7-4641-defd-eadefe35334d"
      },
      "source": [
        "8%3 #modulus"
      ],
      "execution_count": null,
      "outputs": [
        {
          "output_type": "execute_result",
          "data": {
            "text/plain": [
              "2"
            ]
          },
          "metadata": {
            "tags": []
          },
          "execution_count": 44
        }
      ]
    },
    {
      "cell_type": "code",
      "metadata": {
        "id": "-aZzTau49Biy",
        "colab_type": "code",
        "colab": {}
      },
      "source": [
        "#Variable\n",
        "x=13\n",
        "y=\"Hai\"\n",
        "x13=6"
      ],
      "execution_count": null,
      "outputs": []
    },
    {
      "cell_type": "code",
      "metadata": {
        "id": "n5MfMDwP7K4k",
        "colab_type": "code",
        "colab": {
          "base_uri": "https://localhost:8080/",
          "height": 34
        },
        "outputId": "f8252d44-9a59-4c64-b97d-7387fe1ab6a0"
      },
      "source": [
        "#List --> heterogenous\n",
        "items=[\"rice\",3,\"kerosene\",1,\"Sugar\",1.5]\n",
        "type(items)\n"
      ],
      "execution_count": null,
      "outputs": [
        {
          "output_type": "execute_result",
          "data": {
            "text/plain": [
              "list"
            ]
          },
          "metadata": {
            "tags": []
          },
          "execution_count": 46
        }
      ]
    },
    {
      "cell_type": "code",
      "metadata": {
        "id": "1sTJMRH3-ZT6",
        "colab_type": "code",
        "colab": {}
      },
      "source": [
        "new_items=[\"soap\",3,\"cheap\",1]"
      ],
      "execution_count": null,
      "outputs": []
    },
    {
      "cell_type": "code",
      "metadata": {
        "id": "HX9yo51K-5an",
        "colab_type": "code",
        "colab": {}
      },
      "source": [
        "full_items = items + new_items"
      ],
      "execution_count": null,
      "outputs": []
    },
    {
      "cell_type": "code",
      "metadata": {
        "id": "T0jlz3X5_Af8",
        "colab_type": "code",
        "colab": {
          "base_uri": "https://localhost:8080/",
          "height": 34
        },
        "outputId": "a95bd8d2-1edf-4e01-b886-20a3f8f9da12"
      },
      "source": [
        "print(full_items)"
      ],
      "execution_count": null,
      "outputs": [
        {
          "output_type": "stream",
          "text": [
            "['rice', 3, 'kerosene', 1, 'Sugar', 1.5, 'soap', 3, 'cheap', 1]\n"
          ],
          "name": "stdout"
        }
      ]
    },
    {
      "cell_type": "code",
      "metadata": {
        "id": "k2wz4HUZ_Fa2",
        "colab_type": "code",
        "colab": {
          "base_uri": "https://localhost:8080/",
          "height": 34
        },
        "outputId": "86e11a17-7026-4abd-bfb8-4e78ec77ea29"
      },
      "source": [
        "full_items[:6] #index starts from 4 and ends till 7"
      ],
      "execution_count": null,
      "outputs": [
        {
          "output_type": "execute_result",
          "data": {
            "text/plain": [
              "['rice', 3, 'kerosene', 1, 'Sugar', 1.5]"
            ]
          },
          "metadata": {
            "tags": []
          },
          "execution_count": 71
        }
      ]
    },
    {
      "cell_type": "code",
      "metadata": {
        "id": "unibJQej_jUE",
        "colab_type": "code",
        "colab": {
          "base_uri": "https://localhost:8080/",
          "height": 35
        },
        "outputId": "3d05d8ec-9649-4992-900c-9cab6bae5161"
      },
      "source": [
        "full_items[-2]"
      ],
      "execution_count": null,
      "outputs": [
        {
          "output_type": "execute_result",
          "data": {
            "application/vnd.google.colaboratory.intrinsic+json": {
              "type": "string"
            },
            "text/plain": [
              "'cheap'"
            ]
          },
          "metadata": {
            "tags": []
          },
          "execution_count": 72
        }
      ]
    },
    {
      "cell_type": "code",
      "metadata": {
        "id": "qq1zUnk_BHsN",
        "colab_type": "code",
        "colab": {}
      },
      "source": [
        "del(full_items[-2])"
      ],
      "execution_count": null,
      "outputs": []
    },
    {
      "cell_type": "code",
      "metadata": {
        "id": "F_BX-RPnFgKF",
        "colab_type": "code",
        "colab": {}
      },
      "source": [
        "del(full_items[-1])"
      ],
      "execution_count": null,
      "outputs": []
    },
    {
      "cell_type": "code",
      "metadata": {
        "id": "OgEHirEcFocd",
        "colab_type": "code",
        "colab": {
          "base_uri": "https://localhost:8080/",
          "height": 34
        },
        "outputId": "95b354f8-ec36-4734-acd2-3c7d35314f4c"
      },
      "source": [
        "full_items"
      ],
      "execution_count": null,
      "outputs": [
        {
          "output_type": "execute_result",
          "data": {
            "text/plain": [
              "['rice', 3, 'kerosene', 1, 'Sugar', 1.5, 'soap', 3]"
            ]
          },
          "metadata": {
            "tags": []
          },
          "execution_count": 75
        }
      ]
    },
    {
      "cell_type": "code",
      "metadata": {
        "id": "WNvat4F8FrmP",
        "colab_type": "code",
        "colab": {
          "base_uri": "https://localhost:8080/",
          "height": 34
        },
        "outputId": "b5e4e1e1-ce02-4005-ed3f-a95de1847cdf"
      },
      "source": [
        "full_items[::-1]"
      ],
      "execution_count": null,
      "outputs": [
        {
          "output_type": "execute_result",
          "data": {
            "text/plain": [
              "[3, 'soap', 1.5, 'Sugar', 1, 'kerosene', 3, 'rice']"
            ]
          },
          "metadata": {
            "tags": []
          },
          "execution_count": 76
        }
      ]
    },
    {
      "cell_type": "code",
      "metadata": {
        "id": "Au0BXZteGEBq",
        "colab_type": "code",
        "colab": {}
      },
      "source": [
        "copy_full_items = full_items[:] #copying a list"
      ],
      "execution_count": null,
      "outputs": []
    },
    {
      "cell_type": "code",
      "metadata": {
        "id": "eyFLIo3FGhfZ",
        "colab_type": "code",
        "colab": {
          "base_uri": "https://localhost:8080/",
          "height": 34
        },
        "outputId": "913e37c7-e162-4b28-96bc-85e23bbf1294"
      },
      "source": [
        "copy_full_items[0]=\"wheat\"\n",
        "copy_full_items"
      ],
      "execution_count": null,
      "outputs": [
        {
          "output_type": "execute_result",
          "data": {
            "text/plain": [
              "['wheat', 3, 'kerosene', 1, 'Sugar', 1.5, 'soap', 3]"
            ]
          },
          "metadata": {
            "tags": []
          },
          "execution_count": 78
        }
      ]
    },
    {
      "cell_type": "code",
      "metadata": {
        "id": "AFp6b8PIGsdD",
        "colab_type": "code",
        "colab": {
          "base_uri": "https://localhost:8080/",
          "height": 34
        },
        "outputId": "1652adf4-2d51-41f3-ab65-b46043978f1c"
      },
      "source": [
        "full_items"
      ],
      "execution_count": null,
      "outputs": [
        {
          "output_type": "execute_result",
          "data": {
            "text/plain": [
              "['rice', 3, 'kerosene', 1, 'Sugar', 1.5, 'soap', 3]"
            ]
          },
          "metadata": {
            "tags": []
          },
          "execution_count": 79
        }
      ]
    },
    {
      "cell_type": "code",
      "metadata": {
        "id": "Cn6BswoXHBLl",
        "colab_type": "code",
        "colab": {}
      },
      "source": [
        ""
      ],
      "execution_count": null,
      "outputs": []
    }
  ]
}